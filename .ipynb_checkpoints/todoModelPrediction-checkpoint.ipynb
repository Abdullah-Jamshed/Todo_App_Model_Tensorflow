{
 "cells": [
  {
   "cell_type": "code",
   "execution_count": 64,
   "metadata": {},
   "outputs": [
    {
     "name": "stdout",
     "output_type": "stream",
     "text": [
      "2.0.0\n"
     ]
    }
   ],
   "source": [
    "import numpy as np\n",
    "import tensorflow\n",
    "from sklearn.preprocessing import MinMaxScaler\n",
    "print(tensorflow.__version__)"
   ]
  },
  {
   "cell_type": "code",
   "execution_count": 65,
   "metadata": {},
   "outputs": [],
   "source": [
    "Sum = []\n",
    "year = 18\n",
    "for years in range(2):\n",
    "    for month in range(1,13):\n",
    "        if month<=7 and month!=2:\n",
    "            if (month%2)==0: \n",
    "                days = 30\n",
    "            else:\n",
    "                days = 31\n",
    "        elif month>=8 and month!=2:\n",
    "            if (month%2)==0:\n",
    "                days = 31\n",
    "            else:\n",
    "                days = 30\n",
    "\n",
    "        elif month==2:\n",
    "            days = 28\n",
    "        for day in range (1,days+1):\n",
    "            Sum.append([int(str(day)+str(month)+str(year))])\n",
    "    year += 1\n",
    "\n",
    "scaler = MinMaxScaler()\n",
    "scaler.fit(Sum)\n",
    "\n",
    "rand_Sum = []\n",
    "buyed_or_not = []\n",
    "for i in range(3):\n",
    "    f_1st = np.random.randint(20,30,size=(1))\n",
    "    s_2nd = np.random.randint(12,13,size=(1))\n",
    "    t_3rd = np.random.randint(19,20,size=(1))\n",
    "    rand_Sum.append([int(str(f_1st[0])+str(s_2nd[0])+str(t_3rd[0]))])\n",
    "    buyed_or_not.append(list(np.random.randint(2,size=(29))))\n",
    "\n",
    "\n",
    "scale_Sum = scaler.transform(rand_Sum)\n",
    "scale_buyed_or_not = scaler.fit_transform(buyed_or_not)\n",
    "\n",
    "past_data = []\n",
    "for j in range(len(scale_Sum)):\n",
    "    past_data.append([scale_Sum[j][0]])\n",
    "    for k in range(len(scale_buyed_or_not[0])):\n",
    "        past_data[j].append(scale_buyed_or_not[j][k])\n",
    "\n",
    "\n",
    "past_data = np.array(past_data)\n",
    "past_data = past_data.reshape(1,3,30)\n",
    "\n",
    "## predicting model\n",
    "\n",
    "\n",
    "num_of_prediction =1                     # num of prediction\n",
    "all_predictions = []\n",
    "for after_day in range(num_of_prediction):             \n",
    "    all_predictions.append(regressor.predict(past_data)[0])\n",
    "\n",
    "\n",
    "prediction_result = []  \n",
    "for value in all_predictions:\n",
    "    loop_list = []\n",
    "    for ans in range(len(value)):\n",
    "        if value[ans] >= 0.5:\n",
    "            loop_list.append(int(np.ceil(value)[ans]))\n",
    "        else:\n",
    "            loop_list.append(int(np.floor(value[ans])))\n",
    "    prediction_result.append(loop_list)\n"
   ]
  },
  {
   "cell_type": "code",
   "execution_count": 66,
   "metadata": {},
   "outputs": [],
   "source": [
    "prediction_result = np.array(prediction_result[0])\n",
    "items = [ 'bread', 'egg', 'waffles', 'butter','milk', 'yogurt', 'burrito', 'cereal', 'cheese', 'beef', 'mutton','fish', 'mango', 'oranges', 'banana', 'apple', 'grapes', 'guava','cherry', 'strawberry', 'peach', 'coriander', 'mint', 'tomato', 'onion','potatoes', 'garlic', 'ginger', 'pepper']"
   ]
  },
  {
   "cell_type": "code",
   "execution_count": 67,
   "metadata": {},
   "outputs": [],
   "source": [
    "result_dict = {}\n",
    "for j in range(len(prediction_result)):\n",
    "    one_or_zero = prediction_result[j]\n",
    "    Items = items[j]\n",
    "    result_dict[Items] = one_or_zero \n",
    "result = []\n",
    "for k,v in result_dict.items():\n",
    "    if v==1:\n",
    "        result.append(k)"
   ]
  },
  {
   "cell_type": "code",
   "execution_count": 68,
   "metadata": {},
   "outputs": [
    {
     "data": {
      "text/plain": [
       "['bread',\n",
       " 'egg',\n",
       " 'butter',\n",
       " 'milk',\n",
       " 'mango',\n",
       " 'apple',\n",
       " 'coriander',\n",
       " 'mint',\n",
       " 'tomato',\n",
       " 'garlic',\n",
       " 'ginger']"
      ]
     },
     "execution_count": 68,
     "metadata": {},
     "output_type": "execute_result"
    }
   ],
   "source": [
    "result"
   ]
  },
  {
   "cell_type": "code",
   "execution_count": null,
   "metadata": {},
   "outputs": [],
   "source": []
  },
  {
   "cell_type": "code",
   "execution_count": null,
   "metadata": {},
   "outputs": [],
   "source": []
  }
 ],
 "metadata": {
  "kernelspec": {
   "display_name": "Python 3",
   "language": "python",
   "name": "python3"
  },
  "language_info": {
   "codemirror_mode": {
    "name": "ipython",
    "version": 3
   },
   "file_extension": ".py",
   "mimetype": "text/x-python",
   "name": "python",
   "nbconvert_exporter": "python",
   "pygments_lexer": "ipython3",
   "version": "3.7.4"
  }
 },
 "nbformat": 4,
 "nbformat_minor": 2
}
